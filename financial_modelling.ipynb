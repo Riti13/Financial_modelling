{
  "nbformat": 4,
  "nbformat_minor": 0,
  "metadata": {
    "colab": {
      "provenance": [],
      "authorship_tag": "ABX9TyPoiYkkZ1+TF9BVOMJRYcVY",
      "include_colab_link": true
    },
    "kernelspec": {
      "name": "python3",
      "display_name": "Python 3"
    },
    "language_info": {
      "name": "python"
    }
  },
  "cells": [
    {
      "cell_type": "markdown",
      "metadata": {
        "id": "view-in-github",
        "colab_type": "text"
      },
      "source": [
        "<a href=\"https://colab.research.google.com/github/Riti13/Financial_modelling/blob/main/financial_modelling.ipynb\" target=\"_parent\"><img src=\"https://colab.research.google.com/assets/colab-badge.svg\" alt=\"Open In Colab\"/></a>"
      ]
    },
    {
      "cell_type": "code",
      "execution_count": 1,
      "metadata": {
        "id": "oYDEZKbOB2OX"
      },
      "outputs": [],
      "source": [
        "import numpy as np\n",
        "import pandas as pd\n",
        "\n",
        "from sklearn.preprocessing import StandardScaler\n",
        "from sklearn.model_selection import train_test_split\n",
        "\n",
        "from sklearn.linear_model import LinearRegression\n",
        "import xgboost as xgb\n",
        "\n",
        "from sklearn.metrics import r2_score"
      ]
    },
    {
      "cell_type": "code",
      "source": [
        "data = pd.read_csv('/content/Financial Distress.csv')"
      ],
      "metadata": {
        "id": "V_1fV7J7CLRL"
      },
      "execution_count": 3,
      "outputs": []
    },
    {
      "cell_type": "code",
      "source": [
        "print(\"Total missing values:\", data.isna().sum().sum())\n",
        "data = data.drop(['Company', 'Time'], axis=1)\n",
        "def onehot_encode(df, column, prefix):\n",
        "    df = df.copy()\n",
        "    dummies = pd.get_dummies(df[column], prefix=prefix)\n",
        "    df = pd.concat([df, dummies], axis=1)\n",
        "    df = df.drop(column, axis=1)\n",
        "    return df"
      ],
      "metadata": {
        "colab": {
          "base_uri": "https://localhost:8080/"
        },
        "id": "vwu9bTXoCLVQ",
        "outputId": "a6a5f594-f981-4605-f2c5-e2f3f21d5c42"
      },
      "execution_count": 4,
      "outputs": [
        {
          "output_type": "stream",
          "name": "stdout",
          "text": [
            "Total missing values: 0\n"
          ]
        }
      ]
    },
    {
      "cell_type": "code",
      "source": [
        "data = onehot_encode(data, column='x80', prefix='x80')\n",
        "print(\"Non-numeric columns:\", len(data.select_dtypes('object').columns))\n"
      ],
      "metadata": {
        "colab": {
          "base_uri": "https://localhost:8080/"
        },
        "id": "Z_AmcJF-CLYw",
        "outputId": "1f11e604-d055-4c92-a921-5a934cbafd2e"
      },
      "execution_count": 5,
      "outputs": [
        {
          "output_type": "stream",
          "name": "stdout",
          "text": [
            "Non-numeric columns: 0\n"
          ]
        }
      ]
    },
    {
      "cell_type": "code",
      "source": [
        "y = data['Financial Distress'].copy()\n",
        "X = data.drop('Financial Distress', axis=1).copy()"
      ],
      "metadata": {
        "id": "DifPPauhCLet"
      },
      "execution_count": 6,
      "outputs": []
    },
    {
      "cell_type": "code",
      "source": [
        "scaler = StandardScaler()\n",
        "\n",
        "X = scaler.fit_transform(X)"
      ],
      "metadata": {
        "id": "1f85dKBWCpFw"
      },
      "execution_count": 7,
      "outputs": []
    },
    {
      "cell_type": "code",
      "source": [
        "X_train, X_test, y_train, y_test = train_test_split(X, y, train_size=0.7, random_state=100)\n",
        "X_train, X_val, y_train, y_val = train_test_split(X_train, y_train, test_size=0.2, random_state=100)\n",
        "dtrain = xgb.DMatrix(X_train, label=y_train)\n",
        "dval = xgb.DMatrix(X_val, label=y_val)\n",
        "dtest = xgb.DMatrix(X_test, label=y_test)"
      ],
      "metadata": {
        "id": "4zhjkZnoCpI4"
      },
      "execution_count": 8,
      "outputs": []
    },
    {
      "cell_type": "code",
      "source": [
        "lin_model = LinearRegression()\n",
        "lin_model.fit(X_train, y_train)\n",
        "\n",
        "print(\"Linear Regression R^2 Score:\", lin_model.score(X_test, y_test))"
      ],
      "metadata": {
        "colab": {
          "base_uri": "https://localhost:8080/"
        },
        "id": "3g10AciNCpNc",
        "outputId": "90088f45-ada7-471b-adc0-e0958f8f87a9"
      },
      "execution_count": 9,
      "outputs": [
        {
          "output_type": "stream",
          "name": "stdout",
          "text": [
            "Linear Regression R^2 Score: -1620.6397891023464\n"
          ]
        }
      ]
    },
    {
      "cell_type": "code",
      "source": [
        "params = {'learning_rate': 0.001, 'max_depth': 6, 'lambda': 0.01}\n",
        "\n",
        "boost_model = xgb.train(\n",
        "    params,\n",
        "    dtrain,\n",
        "    num_boost_round=10000,\n",
        "    evals=[(dval, 'eval')],\n",
        "    early_stopping_rounds=10,\n",
        "    verbose_eval=False\n",
        ")\n",
        "\n",
        "print(\"XGB Model R^2 Score:\", r2_score(y_test, boost_model.predict(dtest)))"
      ],
      "metadata": {
        "colab": {
          "base_uri": "https://localhost:8080/"
        },
        "id": "-Z0hL9YUCpRA",
        "outputId": "c6b91c6b-7386-4464-a7d6-ec23bd9100ee"
      },
      "execution_count": 10,
      "outputs": [
        {
          "output_type": "stream",
          "name": "stdout",
          "text": [
            "XGB Model R^2 Score: 0.12088173278272951\n"
          ]
        }
      ]
    }
  ]
}